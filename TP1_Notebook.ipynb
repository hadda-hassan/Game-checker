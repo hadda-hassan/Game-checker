{
 "cells": [
  {
   "cell_type": "markdown",
   "metadata": {},
   "source": [
    "# TP1: Manipulation des données sous PYTHON\n",
    "\n",
    "Utilisation du package `pandas`\n",
    "\n",
    "\n",
    "## Objectifs du TP\n",
    "\n",
    "Un préalable à l’utilisation d’algorithmes d’apprentissage statistique\n",
    "est le chargement, la mise en forme et l’analyse de base de données. Le\n",
    "package `pandas` de `Python` met à dispostion un ensemble de structures\n",
    "de données et d’outils très pratiques permettant cela. L’objectif de ce\n",
    "TP est de se familiariser avec ces stuctures et outils."
   ]
  },
  {
   "cell_type": "code",
   "execution_count": 14,
   "metadata": {},
   "outputs": [],
   "source": [
    "import pandas as pd\n",
    "import numpy as np\n",
    "import matplotlib.pyplot as plt"
   ]
  },
  {
   "cell_type": "markdown",
   "metadata": {},
   "source": [
    "## Liste des fonctions que nous utiliserons\n",
    "\n",
    "Ci-dessous $s$ représente une liste et $t$ un tableau à 2 dimensions\n",
    "\n",
    "| Fonction | Description |\n",
    "|:---------|:-------------|\n",
    "|`s = Series(data, index)`|Creation d’une liste indexée |\n",
    "|`t = DataFrame(data, index, columns)`|Creation d’un tableau à 2 dimensions|\n",
    "|`s.index` or `t.index`|Renvoie l’index de `s` ou de `t`|\n",
    "|`s.values`|Renvoie la liste des valeurs de `s`|\n",
    "|`t = read_csv(’fichier.csv’)`|Charge une base contenue dans `fichier.csv` dans `t`|\n",
    "|`random.permutation(x)`|Si `x` est entier, crée une séquence aléatoire d’entiers entre 1 et `x`|\n",
    "|`random.choice(a,size,replace)`|Génère un échantillon aléatoire d’éléments de `a`|avec (`replace=True`) ou sans remise (`replace`=False)|\n",
    "|`t.drop(label,axis)`|Crée un DataFrame à partir de `t` dont les lignes (axis=0)|ou les colonnes (axis=1) spécifiées dans `label` ont été supprimées|\n",
    "|`t.duplicated()`|Renvoie la liste des doublons de lignes|\n",
    "|`t.replace(value1,value2)`|Remplace `value1` par `value2` dans `t`|\n",
    "|`t.fillna(value)`|Remplace les valeurs manquantes `nan` par `value`|\n",
    "|`t.dropna(axis)`|Supprime les lignes (axis=0) ou les colonnes (axis=1)|avec valeurs manquantes|\n",
    "|`t.describe()`|Affiche des statistiques sur `t`|\n",
    "|`t.mean(axis)`|Renvoie la valeur moyenne selon l’axe précisé (0 ou 1)|\n",
    "|`t.min(axis)`|Renvoie la valeur mini selon l’axe précisé (0 ou 1)|\n",
    "|`t.max(axis)`|Renvoie la valeur maxi selon l’axe précisé (0 ou 1)|\n",
    "|`t.value_counts()`|Renvoie le nombre de valeurs unique de `t`|\n",
    "|`s.hist()`|Affiche l’histogramme des valeurs de `s`|\n",
    "|`t.crosstab(column1,column2)`|Calcule et affiche le tableau de contingence des 2 variables de `t`|"
   ]
  },
  {
   "cell_type": "markdown",
   "metadata": {},
   "source": [
    "## 1 - La structure de données `Series`\n",
    "\n",
    "Le package `pandas` propose une structure pour gérer les listes\n",
    "d’objets. Il s’agit d’un tableau à deux colonnes dont la première\n",
    "colonne correspond aux indices et la deuxième aux valeurs\n",
    "correspondantes."
   ]
  },
  {
   "cell_type": "markdown",
   "metadata": {},
   "source": [
    "(a) Créer un objet de type `Series` contenant la liste suivante:\n",
    "\n",
    "|`crab` | `deer` | `hamster` | `dolphin` |\n",
    "|:-----:|:------:|:---------:|:---------:|"
   ]
  },
  {
   "cell_type": "code",
   "execution_count": null,
   "metadata": {},
   "outputs": [],
   "source": []
  },
  {
   "cell_type": "markdown",
   "metadata": {},
   "source": [
    "(b) Faire afficher à l’écran la liste des index de cette liste avec la fonction `s.index`"
   ]
  },
  {
   "cell_type": "code",
   "execution_count": null,
   "metadata": {},
   "outputs": [],
   "source": []
  },
  {
   "cell_type": "markdown",
   "metadata": {},
   "source": [
    "(c) Sélectionner à l’écran l’élément de la liste dont l’index est 2"
   ]
  },
  {
   "cell_type": "code",
   "execution_count": null,
   "metadata": {},
   "outputs": [],
   "source": []
  },
  {
   "cell_type": "markdown",
   "metadata": {},
   "source": [
    "(d) Faire afficher à l’écran l’index de l’élément est `deer`"
   ]
  },
  {
   "cell_type": "code",
   "execution_count": null,
   "metadata": {},
   "outputs": [],
   "source": []
  },
  {
   "cell_type": "markdown",
   "metadata": {},
   "source": [
    "(e) Modifier les index de la liste pour qu’ils soient maintenant: `’a’,’b’,’c’,’d’`"
   ]
  },
  {
   "cell_type": "code",
   "execution_count": null,
   "metadata": {},
   "outputs": [],
   "source": []
  },
  {
   "cell_type": "markdown",
   "metadata": {},
   "source": [
    "## 2 - La structure de données `DataFrame`\n",
    "\n",
    "La deuxième structure proposée par `pandas` permet de gérer des tableaux\n",
    "de données. C’est donc un tableau à 2 dimensions avec des index de\n",
    "lignes et colonnes. L’index de colonnes correspond aux noms des\n",
    "variables de la base de données et l’index des lignes correspond aux\n",
    "différents individus de la population que représente la base."
   ]
  },
  {
   "cell_type": "markdown",
   "metadata": {},
   "source": [
    "(a) Créer un objet de type `DataFrame` contenant les données suivantes:\n",
    "\n",
    "|  _Animal_ | **Aquatic** | **Tail** |\n",
    "|:---------:|:-----------:|:--------:|\n",
    "|**crab**   |     True    |  False   |\n",
    "|**deer**   |     False   |  True    |\n",
    "|**hamster**|     False   |  True    |\n",
    "|**dolphin**|     True    |  False   |"
   ]
  },
  {
   "cell_type": "code",
   "execution_count": null,
   "metadata": {},
   "outputs": [],
   "source": []
  },
  {
   "cell_type": "markdown",
   "metadata": {},
   "source": [
    "(b) Faire afficher à l’écran la liste des index de cette base avec la fonction `t.index`\n"
   ]
  },
  {
   "cell_type": "code",
   "execution_count": null,
   "metadata": {},
   "outputs": [],
   "source": []
  },
  {
   "cell_type": "markdown",
   "metadata": {},
   "source": [
    "(c) Faire afficher à l’écran la liste des colonnes (variables) de la base avec la fonction `t.columns`"
   ]
  },
  {
   "cell_type": "code",
   "execution_count": null,
   "metadata": {},
   "outputs": [],
   "source": []
  },
  {
   "cell_type": "markdown",
   "metadata": {},
   "source": [
    "(d) Faire afficher à l’écran les valeurs des variables de la ligne `deer`"
   ]
  },
  {
   "cell_type": "code",
   "execution_count": null,
   "metadata": {},
   "outputs": [],
   "source": []
  },
  {
   "cell_type": "markdown",
   "metadata": {},
   "source": [
    "(e) Créer une `DataFrame` qui contiendra uniquement les animaux “aquatiques”"
   ]
  },
  {
   "cell_type": "code",
   "execution_count": null,
   "metadata": {},
   "outputs": [],
   "source": []
  },
  {
   "cell_type": "markdown",
   "metadata": {},
   "source": [
    "## 3 - Chargement de données à partir d’un fichier `.csv`\n",
    "\n",
    "(a) Charger dans une `DataFrame` la base de données `zoo` à partir du\n",
    "    fichier `.csv` disponible sur Moodle"
   ]
  },
  {
   "cell_type": "code",
   "execution_count": null,
   "metadata": {},
   "outputs": [],
   "source": []
  },
  {
   "cell_type": "markdown",
   "metadata": {},
   "source": [
    "(b) Faire afficher la liste des variables de la base"
   ]
  },
  {
   "cell_type": "code",
   "execution_count": null,
   "metadata": {},
   "outputs": [],
   "source": []
  },
  {
   "cell_type": "markdown",
   "metadata": {},
   "source": [
    "## 4 - Sélection de données\n",
    "\n",
    "(a) Créer une fonction `Melange(t)` qui prendra en paramètre une DataFrame `t` et renverra la DataFrame dont les lignes ont été mélangées aléatoirement. Tester sur la base `zoo`."
   ]
  },
  {
   "cell_type": "code",
   "execution_count": null,
   "metadata": {},
   "outputs": [],
   "source": []
  },
  {
   "cell_type": "markdown",
   "metadata": {},
   "source": [
    "(b) Créer un script `Tirage1(t,n)` qui prendra en paramètre une DataFrame `t` et un entier `n` et renverra une DataFrame contenant $n$ lignes de `t` tirées aléatoirement (avec remise). Tester sur la base `zoo`."
   ]
  },
  {
   "cell_type": "code",
   "execution_count": null,
   "metadata": {},
   "outputs": [],
   "source": []
  },
  {
   "cell_type": "markdown",
   "metadata": {},
   "source": [
    "(c) Créer une variante `Tirage2(t,n)` avec tirage sans remise."
   ]
  },
  {
   "cell_type": "code",
   "execution_count": null,
   "metadata": {},
   "outputs": [],
   "source": []
  },
  {
   "cell_type": "markdown",
   "metadata": {},
   "source": [
    "(d) Vérifier dans les 2 cas avec la fonction `t.duplicated` l’existence ou non de doublons de lignes(remise ou non)."
   ]
  },
  {
   "cell_type": "code",
   "execution_count": null,
   "metadata": {},
   "outputs": [],
   "source": []
  },
  {
   "cell_type": "markdown",
   "metadata": {},
   "source": [
    "### Suppression et transformation de données\n",
    "\n",
    "(a) Charger dans une `DataFrame` la base de données `titanic2` à partir du fichier `.csv` disponible sur Moodle:\n",
    "\n",
    "_Avant de répondre aux questions suivantes, dupliquer votre DataFrame dans une autre DataFrame pour en avoir 2 versions._"
   ]
  },
  {
   "cell_type": "code",
   "execution_count": null,
   "metadata": {},
   "outputs": [],
   "source": []
  },
  {
   "cell_type": "markdown",
   "metadata": {},
   "source": [
    "(b) Afficher les lignes dont la valeur de la variable `class` est `unknown` et supprimer une des lignes avec la fonction `t.drop(index)`. Faire la même chose avec la variable `age`."
   ]
  },
  {
   "cell_type": "code",
   "execution_count": null,
   "metadata": {},
   "outputs": [],
   "source": []
  },
  {
   "cell_type": "markdown",
   "metadata": {},
   "source": [
    "(c) Pour éviter de le faire sur l’ensemble des lignes une à une, on utilisera plutôt la gestion de données manquantes de `pandas`. Pour cela, à l’aide de la fonction `replace`, on remplacera l’ensemble des variables `unknown` par la valeur `nan` reconnue par `pandas`."
   ]
  },
  {
   "cell_type": "code",
   "execution_count": null,
   "metadata": {},
   "outputs": [],
   "source": []
  },
  {
   "cell_type": "markdown",
   "metadata": {},
   "source": [
    "(d) Supprimer les lignes contenant les valeurs manquantes avec la fonction `dropna(axis=0)`"
   ]
  },
  {
   "cell_type": "code",
   "execution_count": null,
   "metadata": {},
   "outputs": [],
   "source": []
  },
  {
   "cell_type": "markdown",
   "metadata": {},
   "source": [
    "(e) Avec la deuxième version de la DataFrame, utiliser la fonction `fillna` pour remplacer les valeurs manquantes “nan” par leur valeur la plus fréquente."
   ]
  },
  {
   "cell_type": "code",
   "execution_count": null,
   "metadata": {},
   "outputs": [],
   "source": []
  },
  {
   "cell_type": "markdown",
   "metadata": {},
   "source": [
    "### Statistiques descriptives élémentaires\n",
    "\n",
    "(a) Charger dans une `DataFrame` la base de données `cancer` à partir du fichier `.csv` disponible sur Moodle."
   ]
  },
  {
   "cell_type": "code",
   "execution_count": null,
   "metadata": {},
   "outputs": [],
   "source": []
  },
  {
   "cell_type": "markdown",
   "metadata": {},
   "source": [
    "(b) Utiliser les fonctions `describe()`, `mean()`, `min()`, `max()`, `value_counts()` pour afficher un certain nombre de statistiques descriptives sur la base de données"
   ]
  },
  {
   "cell_type": "code",
   "execution_count": null,
   "metadata": {},
   "outputs": [],
   "source": []
  },
  {
   "cell_type": "markdown",
   "metadata": {},
   "source": [
    "(c) Utiliser la fonction `hist()` du package `pyplot` pour afficher l’histogramme des valeurs de la variable `Clump_Thickness`."
   ]
  },
  {
   "cell_type": "code",
   "execution_count": null,
   "metadata": {},
   "outputs": [],
   "source": []
  },
  {
   "cell_type": "markdown",
   "metadata": {},
   "source": [
    "(d) Utiliser la fonction `scatter()` pour afficher la variable `Cell_Size_Uniformity` en fonction de la variable `Cell_Shape_Uniformity` et étudier la corrélation des 2 variables"
   ]
  },
  {
   "cell_type": "code",
   "execution_count": null,
   "metadata": {},
   "outputs": [],
   "source": []
  },
  {
   "cell_type": "markdown",
   "metadata": {},
   "source": [
    "(e) A l’aide de la fonction `crosstab`, afficher la table de contingence des variables `Mitoses` et `class`"
   ]
  },
  {
   "cell_type": "code",
   "execution_count": null,
   "metadata": {},
   "outputs": [],
   "source": []
  }
 ],
 "metadata": {
  "kernelspec": {
   "display_name": "Python 3",
   "language": "python",
   "name": "python3"
  },
  "language_info": {
   "codemirror_mode": {
    "name": "ipython",
    "version": 3
   },
   "file_extension": ".py",
   "mimetype": "text/x-python",
   "name": "python",
   "nbconvert_exporter": "python",
   "pygments_lexer": "ipython3",
   "version": "3.7.1"
  }
 },
 "nbformat": 4,
 "nbformat_minor": 2
}
